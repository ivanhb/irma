{
 "cells": [
  {
   "cell_type": "code",
   "execution_count": 65,
   "metadata": {},
   "outputs": [],
   "source": [
    "\n",
    "\n",
    "def prepare_json(item_jsld, prefix_index, property_ids, vocabularies_ids):\n",
    "       \n",
    "    def _fill_json(entity):        \n",
    "        title_search = re.search('^(.*)-[a-z]-.*_(.*)\\.jsonld$', str_f_name, re.IGNORECASE)\n",
    "        if len(title_search.groups()) == 2:\n",
    "    \n",
    "    data = fill_json(data_row, mapping,vocabularies_ids)\n",
    "    data = clean_dict(data)\n",
    "    data = pop_empty(data)\n",
    "    data = detect_lang(data)\n",
    "    data = change_prop_id(data,property_ids)\n",
    "    return data\n",
    "\n",
    "# POST /api/:api_resource\n",
    "def create_item(resource_class_id, resource_template_id, item_set_id, item, prefix_index, item_type=None,property_ids=None,classes_ids=None,vocabularies_ids=None):\n",
    "    #with open(c.MAPPING_INDEX) as json_file:\n",
    "    #    mapping = json.load(json_file)\n",
    "    create_json = {\n",
    "            \"@type\":[\"o:Item\"],\n",
    "            \"o:resource_class\": {\n",
    "                \"o:id\": resource_class_id,\n",
    "                '@id': '{}/resource_class/{}'.format(c.CONF[\"OMEKA_API_URL\"], resource_class_id)},\n",
    "            \"o:item_set\": [{\"o:id\": int(item_set_id)}],\n",
    "            \"o:resource_template\": {\n",
    "                \"o:id\": resource_template_id,\n",
    "                '@id': '{}/resource_templates/{}'.format(c.CONF[\"OMEKA_API_URL\"], resource_template_id)\n",
    "                }\n",
    "             }\n",
    "    \n",
    "    # Create an Omeka item starting from item\n",
    "    # data = item in another form\n",
    "    #data = prepare_json(data_row, mapping[item_type][\"create\"],property_ids,vocabularies_ids)\n",
    "    for k,v in data.items():\n",
    "        create_json[k] = v\n",
    "    return create_json\n",
    "\n",
    "def get_resource_class_id(item):\n",
    "    resource_class_id = None\n",
    "    if \"@type\" in item:\n",
    "        #each item have one class\n",
    "        class_iri = item[\"@type\"][0]\n",
    "        for k,val in prefix_index.items():\n",
    "            if str(k) in str(class_iri):\n",
    "                resource_class_id = str(val)+\":\"+str(class_iri).replace(str(k),\"\")\n",
    "    return resource_class_id\n",
    "    \n",
    "def get_resource_template_id(resource_template_name, resource_templates_ids):\n",
    "    resource_template_id = None\n",
    "    if resource_template_name in resource_templates_ids:\n",
    "        resource_template_id = resource_templates_ids[resource_template_name][\"id\"]\n",
    "    return resource_template_id\n",
    "\n",
    "def get_itemset_id(itemset_name, itemset_ids):\n",
    "    itemset_id = None\n",
    "    if itemset_name in itemset_ids:\n",
    "        itemset_id = resource_templates_ids[resource_template_name][\"id\"]\n",
    "    return itemset_id\n",
    "    \n",
    "#map each JSONLD fle to its corresponding class,template, and itemset\n",
    "#apply regex rules to the original JSONLD file name\n",
    "# Example (name of the itemset)_()_(name of the Resource template): \n",
    "#     fr-a-quaderni_1_F2Expression.jsonld \n",
    "def map_to_entity(str_f_name):\n",
    "    title_search = re.search('^(.*)-[a-z]-.*_(.*)\\.jsonld$', str_f_name, re.IGNORECASE)\n",
    "    #We need to get also the Class name in the example above -> Expression\n",
    "    if len(title_search.groups()) == 2:\n",
    "        return {\"dataset_name\": title_search.group(1), \"resource_template_name\":title_search.group(2)}\n",
    "    return None\n",
    "\n",
    "# a. read the directory of the jsonld files (each .jsonld file represents a class of items)\n",
    "# b. get the Names of the corresponding class,template, and itemset of each file\n",
    "# c. get the omekaS IDs of the names from (b) \n",
    "# \n",
    "def read_jsonld(jsld_data_path, property_ids, classes_ids, resource_templates_ids, vocabularies_ids, itemset_ids, prefix_index, operation=\"create\"):\n",
    "        \n",
    "    list_items = []\n",
    "    for jsld_f_name in os.listdir(jsld_data_path):\n",
    "        if jsld_f_name.endswith(\".jsonld\"):\n",
    "            \n",
    "            if ((jsld_data != None) and (jsld_f_name != None)):\n",
    "                res_map = map_to_entity(jsld_f_name)\n",
    "                if res_map != None:\n",
    "                    \n",
    "                    # Get the IDs of all the names inside \"res_map\"\n",
    "                    item_set_id = get_itemset_id(res_map[\"dataset_name\"], itemset_ids)\n",
    "                    resource_template_id = get_resource_template_id(res_map[\"resource_template_name\"],resource_templates_ids)\n",
    "                    \n",
    "                    # if an elment have no ID we move to the next jsonld file\n",
    "                    if itemset_id == None or resource_template_id == None or resource_class_id == None:\n",
    "                        continue\n",
    "                        \n",
    "                    with open(str(jsld_data_path)+str(jsld_f_name)) as json_file:\n",
    "                        items = json.load(json_file)\n",
    "                        for item in items:\n",
    "                            resource_class_id = get_resource_class_id(item)\n",
    "                            if operation == 'create':\n",
    "                                #o_item = create_item(resource_class_id, resource_template_id, item_set_id, item, entity,property_ids,classes_ids,vocabularies_ids)\n",
    "                                list_items.append(o_item)\n",
    "        \n",
    "    return list_items"
   ]
  },
  {
   "cell_type": "code",
   "execution_count": 1,
   "metadata": {},
   "outputs": [],
   "source": [
    "vowels = [\"a\",\"e\"]\n",
    "index = vowels.index('e')"
   ]
  },
  {
   "cell_type": "code",
   "execution_count": 2,
   "metadata": {},
   "outputs": [
    {
     "data": {
      "text/plain": [
       "1"
      ]
     },
     "execution_count": 2,
     "metadata": {},
     "output_type": "execute_result"
    }
   ],
   "source": [
    "index"
   ]
  },
  {
   "cell_type": "code",
   "execution_count": 6,
   "metadata": {},
   "outputs": [
    {
     "name": "stdout",
     "output_type": "stream",
     "text": [
      "0 a\n",
      "1 e\n"
     ]
    }
   ],
   "source": [
    "for a,b in enumerate(vowels):\n",
    "    print(a,b)"
   ]
  },
  {
   "cell_type": "code",
   "execution_count": null,
   "metadata": {},
   "outputs": [],
   "source": []
  }
 ],
 "metadata": {
  "kernelspec": {
   "display_name": "Python 3",
   "language": "python",
   "name": "python3"
  },
  "language_info": {
   "codemirror_mode": {
    "name": "ipython",
    "version": 3
   },
   "file_extension": ".py",
   "mimetype": "text/x-python",
   "name": "python",
   "nbconvert_exporter": "python",
   "pygments_lexer": "ipython3",
   "version": "3.7.3"
  }
 },
 "nbformat": 4,
 "nbformat_minor": 2
}
